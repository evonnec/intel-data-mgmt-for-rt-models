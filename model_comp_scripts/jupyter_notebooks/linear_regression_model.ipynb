{
 "cells": [
  {
   "cell_type": "code",
   "execution_count": 16,
   "metadata": {
    "collapsed": false
   },
   "outputs": [],
   "source": [
    "import pandas as pd\n",
    "import numpy as np\n",
    "#import scikitlearn as skl"
   ]
  },
  {
   "cell_type": "code",
   "execution_count": 17,
   "metadata": {
    "collapsed": false
   },
   "outputs": [
    {
     "data": {
      "image/png": "[encoded data removed]",
      "text/plain": [
       "<Figure size 432x288 with 1 Axes>"
      ]
     },
     "metadata": {
      "needs_background": "light"
     },
     "output_type": "display_data"
    }
   ],
   "source": [
    "import matplotlib.pyplot as plt\n",
    "%matplotlib inline\n",
    "\n",
    "raw_inputs = np.linspace(0,10,21)\n",
    "x = []\n",
    "y = []\n",
    "for val in raw_inputs:\n",
    "    x.append(val)\n",
    "    y.append(0.5*val + np.random.randn())\n",
    "x = np.array(x).reshape(-1,1)\n",
    "y = np.array(y).reshape(-1,1)\n",
    "plt.scatter(x,y);"
   ]
  },
  {
   "cell_type": "code",
   "execution_count": 18,
   "metadata": {
    "collapsed": true
   },
   "outputs": [],
   "source": [
    "from sklearn.linear_model import LinearRegression #import the regression called \"LinearRegression\""
   ]
  },
  {
   "cell_type": "code",
   "execution_count": 19,
   "metadata": {
    "collapsed": true
   },
   "outputs": [],
   "source": [
    "lr = LinearRegression() # Initialize the model"
   ]
  },
  {
   "cell_type": "code",
   "execution_count": 20,
   "metadata": {
    "collapsed": false
   },
   "outputs": [
    {
     "data": {
      "text/plain": [
       "LinearRegression(copy_X=True, fit_intercept=True, n_jobs=None,\n",
       "         normalize=False)"
      ]
     },
     "execution_count": 20,
     "metadata": {},
     "output_type": "execute_result"
    }
   ],
   "source": [
    "lr.fit(x,y) # \"Fit\" the model, which means \"I want you to learn from my data!\""
   ]
  },
  {
   "cell_type": "code",
   "execution_count": 21,
   "metadata": {
    "collapsed": false,
    "scrolled": true
   },
   "outputs": [
    {
     "name": "stdout",
     "output_type": "stream",
     "text": [
      "[[3.89596632]\n",
      " [4.50165096]\n",
      " [5.10733559]]\n"
     ]
    }
   ],
   "source": [
    "new_x = np.array([7,8,9]).reshape(-1,1)\n",
    "predicted_y = lr.predict(new_x) # Predict for new data!\n",
    "print(predicted_y)"
   ]
  },
  {
   "cell_type": "code",
   "execution_count": 22,
   "metadata": {
    "collapsed": true
   },
   "outputs": [],
   "source": [
    "from sqlalchemy import create_engine"
   ]
  },
  {
   "cell_type": "code",
   "execution_count": 23,
   "metadata": {
    "collapsed": true
   },
   "outputs": [],
   "source": [
    "POSTGRES_ADDRESS = '127.0.0.1' ## INSERT YOUR DB ADDRESS\n",
    "POSTGRES_PORT = '5432'\n",
    "POSTGRES_USERNAME = 'ubuntu' ## CHANGE THIS TO YOUR POSTGRES USERNAME\n",
    "POSTGRES_PASSWORD = 'astronomer' ## CHANGE THIS TO YOUR POSTGRES PASSWORD \n",
    "POSTGRES_DBNAME = 'postgres' ## CHANGE THIS TO YOUR DATABASE NAME "
   ]
  },
  {
   "cell_type": "code",
   "execution_count": 24,
   "metadata": {
    "collapsed": false
   },
   "outputs": [],
   "source": [
    "postgres_str = ('postgresql://{username}:{password}@{ipaddress}:{port}/{dbname}'\n",
    "                .format(username=POSTGRES_USERNAME,\n",
    "                        password=POSTGRES_PASSWORD,\n",
    "                        ipaddress=POSTGRES_ADDRESS,\n",
    "                        port=POSTGRES_PORT,\n",
    "                        dbname=POSTGRES_DBNAME))\n",
    "\n",
    "# Create the connection\n",
    "#cnx = create_engine(postgres_str)"
   ]
  },
  {
   "cell_type": "code",
   "execution_count": 25,
   "metadata": {
    "collapsed": false
   },
   "outputs": [],
   "source": [
    "#pd.read_sql_query('''select trade_price_close from raw_all_trades_dependents where date_time between '2019-05-13' and '2019-05-24' and symbol = 'HSBC US Equity' order by date_time asc;''', cnx)"
   ]
  },
  {
   "cell_type": "code",
   "execution_count": 27,
   "metadata": {
    "collapsed": false
   },
   "outputs": [
    {
     "name": "stderr",
     "output_type": "stream",
     "text": [
      "/anaconda3/lib/python3.7/site-packages/IPython/core/interactiveshell.py:3020: DtypeWarning: Columns (1,2,3,5,6) have mixed types. Specify dtype option on import or set low_memory=False.\n",
      "  interactivity=interactivity, compiler=compiler, result=result)\n"
     ]
    },
    {
     "data": {
      "text/html": [
       "<div>\n",
       "<style scoped>\n",
       "    .dataframe tbody tr th:only-of-type {\n",
       "        vertical-align: middle;\n",
       "    }\n",
       "\n",
       "    .dataframe tbody tr th {\n",
       "        vertical-align: top;\n",
       "    }\n",
       "\n",
       "    .dataframe thead th {\n",
       "        text-align: right;\n",
       "    }\n",
       "</style>\n",
       "<table border=\"1\" class=\"dataframe\">\n",
       "  <thead>\n",
       "    <tr style=\"text-align: right;\">\n",
       "      <th></th>\n",
       "      <th>date_time</th>\n",
       "      <th>trade_price_open</th>\n",
       "      <th>trade_price_close</th>\n",
       "      <th>volume</th>\n",
       "      <th>symbol</th>\n",
       "      <th>predictor</th>\n",
       "      <th>industry</th>\n",
       "    </tr>\n",
       "  </thead>\n",
       "  <tbody>\n",
       "    <tr>\n",
       "      <th>0</th>\n",
       "      <td>05/13/19 09:30 AM</td>\n",
       "      <td>18.77</td>\n",
       "      <td>18.8</td>\n",
       "      <td>33559</td>\n",
       "      <td>ABB US Equity</td>\n",
       "      <td>SMM8 Index</td>\n",
       "      <td>NaN</td>\n",
       "    </tr>\n",
       "    <tr>\n",
       "      <th>1</th>\n",
       "      <td>05/13/19 09:31 AM</td>\n",
       "      <td>18.795</td>\n",
       "      <td>18.79</td>\n",
       "      <td>27979</td>\n",
       "      <td>ABB US Equity</td>\n",
       "      <td>SMM8 Index</td>\n",
       "      <td>NaN</td>\n",
       "    </tr>\n",
       "    <tr>\n",
       "      <th>2</th>\n",
       "      <td>05/13/19 09:32 AM</td>\n",
       "      <td>18.79</td>\n",
       "      <td>18.78</td>\n",
       "      <td>3200</td>\n",
       "      <td>ABB US Equity</td>\n",
       "      <td>SMM8 Index</td>\n",
       "      <td>NaN</td>\n",
       "    </tr>\n",
       "    <tr>\n",
       "      <th>3</th>\n",
       "      <td>05/13/19 09:33 AM</td>\n",
       "      <td>18.78</td>\n",
       "      <td>18.7798</td>\n",
       "      <td>1774</td>\n",
       "      <td>ABB US Equity</td>\n",
       "      <td>SMM8 Index</td>\n",
       "      <td>NaN</td>\n",
       "    </tr>\n",
       "    <tr>\n",
       "      <th>4</th>\n",
       "      <td>05/13/19 09:34 AM</td>\n",
       "      <td>18.78</td>\n",
       "      <td>18.79</td>\n",
       "      <td>1046</td>\n",
       "      <td>ABB US Equity</td>\n",
       "      <td>SMM8 Index</td>\n",
       "      <td>NaN</td>\n",
       "    </tr>\n",
       "  </tbody>\n",
       "</table>\n",
       "</div>"
      ],
      "text/plain": [
       "           date_time trade_price_open trade_price_close volume         symbol  \\\n",
       "0  05/13/19 09:30 AM            18.77              18.8  33559  ABB US Equity   \n",
       "1  05/13/19 09:31 AM           18.795             18.79  27979  ABB US Equity   \n",
       "2  05/13/19 09:32 AM            18.79             18.78   3200  ABB US Equity   \n",
       "3  05/13/19 09:33 AM            18.78           18.7798   1774  ABB US Equity   \n",
       "4  05/13/19 09:34 AM            18.78             18.79   1046  ABB US Equity   \n",
       "\n",
       "    predictor industry  \n",
       "0  SMM8 Index      NaN  \n",
       "1  SMM8 Index      NaN  \n",
       "2  SMM8 Index      NaN  \n",
       "3  SMM8 Index      NaN  \n",
       "4  SMM8 Index      NaN  "
      ]
     },
     "execution_count": 27,
     "metadata": {},
     "output_type": "execute_result"
    }
   ],
   "source": [
    "dependents = pd.read_csv('../data/data_formatted_master.csv')\n",
    "dependents.head()"
   ]
  },
  {
   "cell_type": "code",
   "execution_count": 30,
   "metadata": {
    "collapsed": false
   },
   "outputs": [
    {
     "data": {
      "text/html": [
       "<div>\n",
       "<style scoped>\n",
       "    .dataframe tbody tr th:only-of-type {\n",
       "        vertical-align: middle;\n",
       "    }\n",
       "\n",
       "    .dataframe tbody tr th {\n",
       "        vertical-align: top;\n",
       "    }\n",
       "\n",
       "    .dataframe thead th {\n",
       "        text-align: right;\n",
       "    }\n",
       "</style>\n",
       "<table border=\"1\" class=\"dataframe\">\n",
       "  <thead>\n",
       "    <tr style=\"text-align: right;\">\n",
       "      <th></th>\n",
       "      <th>date_time</th>\n",
       "      <th>trade_price_open</th>\n",
       "      <th>trade_price_close</th>\n",
       "      <th>volume</th>\n",
       "      <th>symbol</th>\n",
       "    </tr>\n",
       "  </thead>\n",
       "  <tbody>\n",
       "    <tr>\n",
       "      <th>0</th>\n",
       "      <td>5/13/2019 9:30</td>\n",
       "      <td>2827.25</td>\n",
       "      <td>2832.75</td>\n",
       "      <td>20983</td>\n",
       "      <td>ESM9 Index</td>\n",
       "    </tr>\n",
       "    <tr>\n",
       "      <th>1</th>\n",
       "      <td>5/13/2019 9:31</td>\n",
       "      <td>2832.5</td>\n",
       "      <td>2833.25</td>\n",
       "      <td>14798</td>\n",
       "      <td>ESM9 Index</td>\n",
       "    </tr>\n",
       "    <tr>\n",
       "      <th>2</th>\n",
       "      <td>5/13/2019 9:32</td>\n",
       "      <td>2833.25</td>\n",
       "      <td>2830</td>\n",
       "      <td>13015</td>\n",
       "      <td>ESM9 Index</td>\n",
       "    </tr>\n",
       "    <tr>\n",
       "      <th>3</th>\n",
       "      <td>5/13/2019 9:33</td>\n",
       "      <td>2830</td>\n",
       "      <td>2831.25</td>\n",
       "      <td>13216</td>\n",
       "      <td>ESM9 Index</td>\n",
       "    </tr>\n",
       "    <tr>\n",
       "      <th>4</th>\n",
       "      <td>5/13/2019 9:34</td>\n",
       "      <td>2831.25</td>\n",
       "      <td>2833.75</td>\n",
       "      <td>10634</td>\n",
       "      <td>ESM9 Index</td>\n",
       "    </tr>\n",
       "  </tbody>\n",
       "</table>\n",
       "</div>"
      ],
      "text/plain": [
       "        date_time trade_price_open trade_price_close volume      symbol\n",
       "0  5/13/2019 9:30          2827.25           2832.75  20983  ESM9 Index\n",
       "1  5/13/2019 9:31           2832.5           2833.25  14798  ESM9 Index\n",
       "2  5/13/2019 9:32          2833.25              2830  13015  ESM9 Index\n",
       "3  5/13/2019 9:33             2830           2831.25  13216  ESM9 Index\n",
       "4  5/13/2019 9:34          2831.25           2833.75  10634  ESM9 Index"
      ]
     },
     "execution_count": 30,
     "metadata": {},
     "output_type": "execute_result"
    }
   ],
   "source": [
    "predictors = pd.read_csv('../data/predictors_master.csv')\n",
    "predictors.head()"
   ]
  },
  {
   "cell_type": "code",
   "execution_count": 31,
   "metadata": {
    "collapsed": false
   },
   "outputs": [
    {
     "name": "stdout",
     "output_type": "stream",
     "text": [
      "<class 'pandas.core.frame.DataFrame'>\n",
      "RangeIndex: 577665 entries, 0 to 577664\n",
      "Data columns (total 7 columns):\n",
      "date_time            577665 non-null object\n",
      "trade_price_open     577665 non-null object\n",
      "trade_price_close    577665 non-null object\n",
      "volume               577665 non-null object\n",
      "symbol               577665 non-null object\n",
      "predictor            18381 non-null object\n",
      "industry             13088 non-null object\n",
      "dtypes: object(7)\n",
      "memory usage: 30.9+ MB\n"
     ]
    }
   ],
   "source": [
    "dependents.info()"
   ]
  },
  {
   "cell_type": "code",
   "execution_count": 33,
   "metadata": {
    "collapsed": false
   },
   "outputs": [
    {
     "data": {
      "text/html": [
       "<div>\n",
       "<style scoped>\n",
       "    .dataframe tbody tr th:only-of-type {\n",
       "        vertical-align: middle;\n",
       "    }\n",
       "\n",
       "    .dataframe tbody tr th {\n",
       "        vertical-align: top;\n",
       "    }\n",
       "\n",
       "    .dataframe thead th {\n",
       "        text-align: right;\n",
       "    }\n",
       "</style>\n",
       "<table border=\"1\" class=\"dataframe\">\n",
       "  <thead>\n",
       "    <tr style=\"text-align: right;\">\n",
       "      <th></th>\n",
       "      <th>date_time</th>\n",
       "      <th>trade_price_open</th>\n",
       "      <th>trade_price_close</th>\n",
       "      <th>volume</th>\n",
       "      <th>symbol</th>\n",
       "      <th>predictor</th>\n",
       "      <th>industry</th>\n",
       "    </tr>\n",
       "  </thead>\n",
       "  <tbody>\n",
       "    <tr>\n",
       "      <th>count</th>\n",
       "      <td>577665</td>\n",
       "      <td>577665</td>\n",
       "      <td>577665</td>\n",
       "      <td>577665</td>\n",
       "      <td>577665</td>\n",
       "      <td>18381</td>\n",
       "      <td>13088</td>\n",
       "    </tr>\n",
       "    <tr>\n",
       "      <th>unique</th>\n",
       "      <td>12279</td>\n",
       "      <td>61438</td>\n",
       "      <td>61055</td>\n",
       "      <td>56037</td>\n",
       "      <td>134</td>\n",
       "      <td>4</td>\n",
       "      <td>5</td>\n",
       "    </tr>\n",
       "    <tr>\n",
       "      <th>top</th>\n",
       "      <td>5/17/19 15:59</td>\n",
       "      <td>8.04</td>\n",
       "      <td>1.65</td>\n",
       "      <td>100</td>\n",
       "      <td>TEVA US Equity</td>\n",
       "      <td>VGM8 Index</td>\n",
       "      <td>Autos</td>\n",
       "    </tr>\n",
       "    <tr>\n",
       "      <th>freq</th>\n",
       "      <td>85</td>\n",
       "      <td>612</td>\n",
       "      <td>599</td>\n",
       "      <td>54967</td>\n",
       "      <td>5486</td>\n",
       "      <td>9867</td>\n",
       "      <td>5338</td>\n",
       "    </tr>\n",
       "  </tbody>\n",
       "</table>\n",
       "</div>"
      ],
      "text/plain": [
       "            date_time trade_price_open trade_price_close  volume  \\\n",
       "count          577665           577665            577665  577665   \n",
       "unique          12279            61438             61055   56037   \n",
       "top     5/17/19 15:59             8.04              1.65     100   \n",
       "freq               85              612               599   54967   \n",
       "\n",
       "                symbol   predictor industry  \n",
       "count           577665       18381    13088  \n",
       "unique             134           4        5  \n",
       "top     TEVA US Equity  VGM8 Index    Autos  \n",
       "freq              5486        9867     5338  "
      ]
     },
     "execution_count": 33,
     "metadata": {},
     "output_type": "execute_result"
    }
   ],
   "source": [
    "dependents.describe()"
   ]
  },
  {
   "cell_type": "code",
   "execution_count": 34,
   "metadata": {
    "collapsed": false
   },
   "outputs": [
    {
     "name": "stdout",
     "output_type": "stream",
     "text": [
      "<class 'pandas.core.frame.DataFrame'>\n",
      "RangeIndex: 148853 entries, 0 to 148852\n",
      "Data columns (total 5 columns):\n",
      "date_time            148853 non-null object\n",
      "trade_price_open     148853 non-null object\n",
      "trade_price_close    148853 non-null object\n",
      "volume               148853 non-null object\n",
      "symbol               148853 non-null object\n",
      "dtypes: object(5)\n",
      "memory usage: 5.7+ MB\n"
     ]
    }
   ],
   "source": [
    "predictors.info()"
   ]
  },
  {
   "cell_type": "code",
   "execution_count": 35,
   "metadata": {
    "collapsed": false
   },
   "outputs": [
    {
     "data": {
      "text/html": [
       "<div>\n",
       "<style scoped>\n",
       "    .dataframe tbody tr th:only-of-type {\n",
       "        vertical-align: middle;\n",
       "    }\n",
       "\n",
       "    .dataframe tbody tr th {\n",
       "        vertical-align: top;\n",
       "    }\n",
       "\n",
       "    .dataframe thead th {\n",
       "        text-align: right;\n",
       "    }\n",
       "</style>\n",
       "<table border=\"1\" class=\"dataframe\">\n",
       "  <thead>\n",
       "    <tr style=\"text-align: right;\">\n",
       "      <th></th>\n",
       "      <th>date_time</th>\n",
       "      <th>trade_price_open</th>\n",
       "      <th>trade_price_close</th>\n",
       "      <th>volume</th>\n",
       "      <th>symbol</th>\n",
       "    </tr>\n",
       "  </thead>\n",
       "  <tbody>\n",
       "    <tr>\n",
       "      <th>count</th>\n",
       "      <td>148853</td>\n",
       "      <td>148853</td>\n",
       "      <td>148853</td>\n",
       "      <td>148853</td>\n",
       "      <td>148853</td>\n",
       "    </tr>\n",
       "    <tr>\n",
       "      <th>unique</th>\n",
       "      <td>39209</td>\n",
       "      <td>5338</td>\n",
       "      <td>5446</td>\n",
       "      <td>16223</td>\n",
       "      <td>12</td>\n",
       "    </tr>\n",
       "    <tr>\n",
       "      <th>top</th>\n",
       "      <td>5/23/2019 12:21</td>\n",
       "      <td>1.1165</td>\n",
       "      <td>1.1165</td>\n",
       "      <td>0</td>\n",
       "      <td>GBPUSD Curncy</td>\n",
       "    </tr>\n",
       "    <tr>\n",
       "      <th>freq</th>\n",
       "      <td>6</td>\n",
       "      <td>564</td>\n",
       "      <td>564</td>\n",
       "      <td>41658</td>\n",
       "      <td>20790</td>\n",
       "    </tr>\n",
       "  </tbody>\n",
       "</table>\n",
       "</div>"
      ],
      "text/plain": [
       "              date_time trade_price_open trade_price_close  volume  \\\n",
       "count            148853           148853            148853  148853   \n",
       "unique            39209             5338              5446   16223   \n",
       "top     5/23/2019 12:21           1.1165            1.1165       0   \n",
       "freq                  6              564               564   41658   \n",
       "\n",
       "               symbol  \n",
       "count          148853  \n",
       "unique             12  \n",
       "top     GBPUSD Curncy  \n",
       "freq            20790  "
      ]
     },
     "execution_count": 35,
     "metadata": {},
     "output_type": "execute_result"
    }
   ],
   "source": [
    "predictors.describe()"
   ]
  },
  {
   "cell_type": "code",
   "execution_count": null,
   "metadata": {
    "collapsed": true
   },
   "outputs": [],
   "source": []
  }
 ],
 "metadata": {
  "anaconda-cloud": {},
  "kernelspec": {
   "display_name": "Python [conda env:anaconda3]",
   "language": "python",
   "name": "conda-env-anaconda3-py"
  },
  "language_info": {
   "codemirror_mode": {
    "name": "ipython",
    "version": 3
   },
   "file_extension": ".py",
   "mimetype": "text/x-python",
   "name": "python",
   "nbconvert_exporter": "python",
   "pygments_lexer": "ipython3",
   "version": "3.7.1"
  }
 },
 "nbformat": 4,
 "nbformat_minor": 1
}
